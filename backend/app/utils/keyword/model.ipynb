{
 "cells": [
  {
   "cell_type": "markdown",
   "metadata": {},
   "source": [
    "<h1 style=\"font-family: Verdana; font-size: 24px; font-style: normal; font-weight: bold; text-decoration: none; text-transform: none; letter-spacing: 3px; background-color: #ffffff; color: navy;\">Import Libraries&nbsp;&nbsp;&nbsp;&nbsp;</h1> "
   ]
  },
  {
   "cell_type": "code",
   "execution_count": 2,
   "metadata": {
    "execution": {
     "iopub.execute_input": "2025-06-20T09:48:38.625519Z",
     "iopub.status.busy": "2025-06-20T09:48:38.625230Z",
     "iopub.status.idle": "2025-06-20T09:48:41.535001Z",
     "shell.execute_reply": "2025-06-20T09:48:41.534243Z",
     "shell.execute_reply.started": "2025-06-20T09:48:38.625481Z"
    },
    "trusted": true
   },
   "outputs": [],
   "source": [
    "!pip install keras --quiet"
   ]
  },
  {
   "cell_type": "code",
   "execution_count": 3,
   "metadata": {
    "execution": {
     "iopub.execute_input": "2025-06-20T09:48:41.537246Z",
     "iopub.status.busy": "2025-06-20T09:48:41.536686Z",
     "iopub.status.idle": "2025-06-20T09:48:57.910536Z",
     "shell.execute_reply": "2025-06-20T09:48:57.909790Z",
     "shell.execute_reply.started": "2025-06-20T09:48:41.537212Z"
    },
    "trusted": true
   },
   "outputs": [
    {
     "name": "stderr",
     "output_type": "stream",
     "text": [
      "2025-06-20 09:48:45.677308: E external/local_xla/xla/stream_executor/cuda/cuda_fft.cc:477] Unable to register cuFFT factory: Attempting to register factory for plugin cuFFT when one has already been registered\n",
      "WARNING: All log messages before absl::InitializeLog() is called are written to STDERR\n",
      "E0000 00:00:1750412925.891177      35 cuda_dnn.cc:8310] Unable to register cuDNN factory: Attempting to register factory for plugin cuDNN when one has already been registered\n",
      "E0000 00:00:1750412925.955092      35 cuda_blas.cc:1418] Unable to register cuBLAS factory: Attempting to register factory for plugin cuBLAS when one has already been registered\n"
     ]
    }
   ],
   "source": [
    "# Core libraries\n",
    "import numpy as np\n",
    "import pandas as pd\n",
    "from tqdm import tqdm\n",
    "\n",
    "# Visualization\n",
    "import matplotlib.pyplot as plt\n",
    "import seaborn as sns\n",
    "%matplotlib inline\n",
    "import plotly.graph_objs as go\n",
    "import plotly.express as px\n",
    "import plotly.figure_factory as ff\n",
    "\n",
    "# TensorFlow / Keras\n",
    "import tensorflow as tf\n",
    "from tensorflow.keras.models import Sequential, load_model\n",
    "from tensorflow.keras.layers import (\n",
    "    Dense, Dropout, Activation, BatchNormalization,\n",
    "    Embedding, LSTM, GRU, SimpleRNN,\n",
    "    GlobalMaxPooling1D, Conv1D, MaxPooling1D,\n",
    "    Flatten, Bidirectional, SpatialDropout1D\n",
    ")\n",
    "from tensorflow.keras.preprocessing import text, sequence\n",
    "from tensorflow.keras.callbacks import EarlyStopping\n",
    "from tensorflow.keras.utils import to_categorical\n",
    "from tensorflow.keras.metrics import Precision, Recall\n",
    "\n",
    "# Sklearn\n",
    "from sklearn.model_selection import train_test_split\n",
    "from sklearn.feature_extraction.text import TfidfVectorizer\n",
    "from sklearn.preprocessing import MultiLabelBinarizer, LabelEncoder, StandardScaler\n",
    "from sklearn.linear_model import SGDClassifier, LogisticRegression\n",
    "from sklearn.svm import LinearSVC\n",
    "from sklearn.multiclass import OneVsRestClassifier\n",
    "from sklearn import decomposition, metrics, pipeline\n"
   ]
  },
  {
   "cell_type": "markdown",
   "metadata": {},
   "source": [
    "<h1 style=\"font-family: Verdana; font-size: 24px; font-style: normal; font-weight: bold; text-decoration: none; text-transform: none; letter-spacing: 3px; background-color: #ffffff; color: navy;\">Read the data&nbsp;&nbsp;&nbsp;&nbsp;</h1> "
   ]
  },
  {
   "cell_type": "code",
   "execution_count": null,
   "metadata": {
    "execution": {
     "iopub.execute_input": "2025-06-20T09:48:57.911897Z",
     "iopub.status.busy": "2025-06-20T09:48:57.911404Z",
     "iopub.status.idle": "2025-06-20T09:48:59.331327Z",
     "shell.execute_reply": "2025-06-20T09:48:59.330551Z",
     "shell.execute_reply.started": "2025-06-20T09:48:57.911868Z"
    },
    "trusted": true
   },
   "outputs": [],
   "source": [
    "train = pd.read_csv('/path/to/tarin.csv')\n",
    "train = pd.read_csv('/path/to/test.csv')"
   ]
  },
  {
   "cell_type": "code",
   "execution_count": 5,
   "metadata": {
    "execution": {
     "iopub.execute_input": "2025-06-20T09:48:59.333266Z",
     "iopub.status.busy": "2025-06-20T09:48:59.333045Z",
     "iopub.status.idle": "2025-06-20T09:48:59.747326Z",
     "shell.execute_reply": "2025-06-20T09:48:59.746734Z",
     "shell.execute_reply.started": "2025-06-20T09:48:59.333248Z"
    },
    "trusted": true
   },
   "outputs": [
    {
     "data": {
      "text/html": [
       "<div>\n",
       "<style scoped>\n",
       "    .dataframe tbody tr th:only-of-type {\n",
       "        vertical-align: middle;\n",
       "    }\n",
       "\n",
       "    .dataframe tbody tr th {\n",
       "        vertical-align: top;\n",
       "    }\n",
       "\n",
       "    .dataframe thead th {\n",
       "        text-align: right;\n",
       "    }\n",
       "</style>\n",
       "<table border=\"1\" class=\"dataframe\">\n",
       "  <thead>\n",
       "    <tr style=\"text-align: right;\">\n",
       "      <th></th>\n",
       "      <th>Id</th>\n",
       "      <th>Title</th>\n",
       "      <th>Abstract</th>\n",
       "      <th>Categories</th>\n",
       "    </tr>\n",
       "  </thead>\n",
       "  <tbody>\n",
       "    <tr>\n",
       "      <th>0</th>\n",
       "      <td>9707</td>\n",
       "      <td>Axiomatic Aspects of Default Inference</td>\n",
       "      <td>This paper studies axioms for nonmonotonic con...</td>\n",
       "      <td>[cs.LO]</td>\n",
       "    </tr>\n",
       "    <tr>\n",
       "      <th>1</th>\n",
       "      <td>24198</td>\n",
       "      <td>On extensions of group with infinite conjugacy...</td>\n",
       "      <td>We characterize the group property of being wi...</td>\n",
       "      <td>[math.GR]</td>\n",
       "    </tr>\n",
       "    <tr>\n",
       "      <th>2</th>\n",
       "      <td>35766</td>\n",
       "      <td>An Analysis of Complex-Valued CNNs for RF Data...</td>\n",
       "      <td>Recent deep neural network-based device classi...</td>\n",
       "      <td>[cs.LG, cs.IT, eess.SP, math.IT]</td>\n",
       "    </tr>\n",
       "    <tr>\n",
       "      <th>3</th>\n",
       "      <td>14322</td>\n",
       "      <td>On the reconstruction of the drift of a diffus...</td>\n",
       "      <td>The problem of reconstructing the drift of a d...</td>\n",
       "      <td>[math.PR, math.ST, stat.TH]</td>\n",
       "    </tr>\n",
       "    <tr>\n",
       "      <th>4</th>\n",
       "      <td>709</td>\n",
       "      <td>Three classes of propagation rules for GRS and...</td>\n",
       "      <td>In this paper, we study the Hermitian hulls of...</td>\n",
       "      <td>[cs.IT, math.IT]</td>\n",
       "    </tr>\n",
       "  </tbody>\n",
       "</table>\n",
       "</div>"
      ],
      "text/plain": [
       "      Id                                              Title  \\\n",
       "0   9707             Axiomatic Aspects of Default Inference   \n",
       "1  24198  On extensions of group with infinite conjugacy...   \n",
       "2  35766  An Analysis of Complex-Valued CNNs for RF Data...   \n",
       "3  14322  On the reconstruction of the drift of a diffus...   \n",
       "4    709  Three classes of propagation rules for GRS and...   \n",
       "\n",
       "                                            Abstract  \\\n",
       "0  This paper studies axioms for nonmonotonic con...   \n",
       "1  We characterize the group property of being wi...   \n",
       "2  Recent deep neural network-based device classi...   \n",
       "3  The problem of reconstructing the drift of a d...   \n",
       "4  In this paper, we study the Hermitian hulls of...   \n",
       "\n",
       "                         Categories  \n",
       "0                           [cs.LO]  \n",
       "1                         [math.GR]  \n",
       "2  [cs.LG, cs.IT, eess.SP, math.IT]  \n",
       "3       [math.PR, math.ST, stat.TH]  \n",
       "4                  [cs.IT, math.IT]  "
      ]
     },
     "execution_count": 5,
     "metadata": {},
     "output_type": "execute_result"
    }
   ],
   "source": [
    "import ast\n",
    "train['Categories'] = train['Categories'].apply(lambda x: ast.literal_eval(x))\n",
    "train.head()"
   ]
  },
  {
   "cell_type": "code",
   "execution_count": 6,
   "metadata": {
    "execution": {
     "iopub.execute_input": "2025-06-20T09:48:59.748339Z",
     "iopub.status.busy": "2025-06-20T09:48:59.748073Z",
     "iopub.status.idle": "2025-06-20T09:48:59.814588Z",
     "shell.execute_reply": "2025-06-20T09:48:59.814021Z",
     "shell.execute_reply.started": "2025-06-20T09:48:59.748317Z"
    },
    "trusted": true
   },
   "outputs": [
    {
     "data": {
      "text/plain": [
       "array([[0, 0, 0, ..., 0, 0, 0],\n",
       "       [0, 0, 0, ..., 0, 0, 0],\n",
       "       [0, 0, 0, ..., 0, 0, 0],\n",
       "       ...,\n",
       "       [0, 0, 0, ..., 0, 0, 0],\n",
       "       [0, 0, 0, ..., 0, 0, 0],\n",
       "       [0, 0, 0, ..., 0, 0, 0]])"
      ]
     },
     "execution_count": 6,
     "metadata": {},
     "output_type": "execute_result"
    }
   ],
   "source": [
    "multilabel = MultiLabelBinarizer()\n",
    "y = multilabel.fit_transform(train['Categories'])\n",
    "y"
   ]
  },
  {
   "cell_type": "code",
   "execution_count": 7,
   "metadata": {
    "execution": {
     "iopub.execute_input": "2025-06-20T09:48:59.815542Z",
     "iopub.status.busy": "2025-06-20T09:48:59.815296Z",
     "iopub.status.idle": "2025-06-20T09:48:59.820536Z",
     "shell.execute_reply": "2025-06-20T09:48:59.819851Z",
     "shell.execute_reply.started": "2025-06-20T09:48:59.815524Z"
    },
    "trusted": true
   },
   "outputs": [
    {
     "data": {
      "text/plain": [
       "array(['cs.AI', 'cs.AR', 'cs.CE', 'cs.CL', 'cs.CR', 'cs.CV', 'cs.DB',\n",
       "       'cs.DC', 'cs.DM', 'cs.GT', 'cs.IR', 'cs.IT', 'cs.LG', 'cs.LO',\n",
       "       'cs.NI', 'cs.OS', 'cs.PL', 'cs.RO', 'cs.SD', 'cs.SE', 'econ.EM',\n",
       "       'econ.GN', 'econ.TH', 'eess.AS', 'eess.IV', 'eess.SP', 'math.AC',\n",
       "       'math.AP', 'math.AT', 'math.CO', 'math.CV', 'math.GR', 'math.IT',\n",
       "       'math.LO', 'math.NT', 'math.PR', 'math.QA', 'math.ST', 'q-bio.BM',\n",
       "       'q-bio.CB', 'q-bio.GN', 'q-bio.MN', 'q-bio.NC', 'q-bio.TO',\n",
       "       'q-fin.CP', 'q-fin.EC', 'q-fin.GN', 'q-fin.MF', 'q-fin.PM',\n",
       "       'q-fin.PR', 'q-fin.RM', 'q-fin.TR', 'stat.AP', 'stat.CO',\n",
       "       'stat.ME', 'stat.ML', 'stat.TH'], dtype=object)"
      ]
     },
     "execution_count": 7,
     "metadata": {},
     "output_type": "execute_result"
    }
   ],
   "source": [
    "multilabel.classes_"
   ]
  },
  {
   "cell_type": "code",
   "execution_count": 8,
   "metadata": {
    "execution": {
     "iopub.execute_input": "2025-06-20T09:48:59.821468Z",
     "iopub.status.busy": "2025-06-20T09:48:59.821241Z",
     "iopub.status.idle": "2025-06-20T09:48:59.862418Z",
     "shell.execute_reply": "2025-06-20T09:48:59.861773Z",
     "shell.execute_reply.started": "2025-06-20T09:48:59.821451Z"
    },
    "trusted": true
   },
   "outputs": [
    {
     "data": {
      "text/html": [
       "<div>\n",
       "<style scoped>\n",
       "    .dataframe tbody tr th:only-of-type {\n",
       "        vertical-align: middle;\n",
       "    }\n",
       "\n",
       "    .dataframe tbody tr th {\n",
       "        vertical-align: top;\n",
       "    }\n",
       "\n",
       "    .dataframe thead th {\n",
       "        text-align: right;\n",
       "    }\n",
       "</style>\n",
       "<table border=\"1\" class=\"dataframe\">\n",
       "  <thead>\n",
       "    <tr style=\"text-align: right;\">\n",
       "      <th></th>\n",
       "      <th>cs.AI</th>\n",
       "      <th>cs.AR</th>\n",
       "      <th>cs.CE</th>\n",
       "      <th>cs.CL</th>\n",
       "      <th>cs.CR</th>\n",
       "      <th>cs.CV</th>\n",
       "      <th>cs.DB</th>\n",
       "      <th>cs.DC</th>\n",
       "      <th>cs.DM</th>\n",
       "      <th>cs.GT</th>\n",
       "      <th>...</th>\n",
       "      <th>q-fin.MF</th>\n",
       "      <th>q-fin.PM</th>\n",
       "      <th>q-fin.PR</th>\n",
       "      <th>q-fin.RM</th>\n",
       "      <th>q-fin.TR</th>\n",
       "      <th>stat.AP</th>\n",
       "      <th>stat.CO</th>\n",
       "      <th>stat.ME</th>\n",
       "      <th>stat.ML</th>\n",
       "      <th>stat.TH</th>\n",
       "    </tr>\n",
       "  </thead>\n",
       "  <tbody>\n",
       "    <tr>\n",
       "      <th>0</th>\n",
       "      <td>0</td>\n",
       "      <td>0</td>\n",
       "      <td>0</td>\n",
       "      <td>0</td>\n",
       "      <td>0</td>\n",
       "      <td>0</td>\n",
       "      <td>0</td>\n",
       "      <td>0</td>\n",
       "      <td>0</td>\n",
       "      <td>0</td>\n",
       "      <td>...</td>\n",
       "      <td>0</td>\n",
       "      <td>0</td>\n",
       "      <td>0</td>\n",
       "      <td>0</td>\n",
       "      <td>0</td>\n",
       "      <td>0</td>\n",
       "      <td>0</td>\n",
       "      <td>0</td>\n",
       "      <td>0</td>\n",
       "      <td>0</td>\n",
       "    </tr>\n",
       "    <tr>\n",
       "      <th>1</th>\n",
       "      <td>0</td>\n",
       "      <td>0</td>\n",
       "      <td>0</td>\n",
       "      <td>0</td>\n",
       "      <td>0</td>\n",
       "      <td>0</td>\n",
       "      <td>0</td>\n",
       "      <td>0</td>\n",
       "      <td>0</td>\n",
       "      <td>0</td>\n",
       "      <td>...</td>\n",
       "      <td>0</td>\n",
       "      <td>0</td>\n",
       "      <td>0</td>\n",
       "      <td>0</td>\n",
       "      <td>0</td>\n",
       "      <td>0</td>\n",
       "      <td>0</td>\n",
       "      <td>0</td>\n",
       "      <td>0</td>\n",
       "      <td>0</td>\n",
       "    </tr>\n",
       "    <tr>\n",
       "      <th>2</th>\n",
       "      <td>0</td>\n",
       "      <td>0</td>\n",
       "      <td>0</td>\n",
       "      <td>0</td>\n",
       "      <td>0</td>\n",
       "      <td>0</td>\n",
       "      <td>0</td>\n",
       "      <td>0</td>\n",
       "      <td>0</td>\n",
       "      <td>0</td>\n",
       "      <td>...</td>\n",
       "      <td>0</td>\n",
       "      <td>0</td>\n",
       "      <td>0</td>\n",
       "      <td>0</td>\n",
       "      <td>0</td>\n",
       "      <td>0</td>\n",
       "      <td>0</td>\n",
       "      <td>0</td>\n",
       "      <td>0</td>\n",
       "      <td>0</td>\n",
       "    </tr>\n",
       "    <tr>\n",
       "      <th>3</th>\n",
       "      <td>0</td>\n",
       "      <td>0</td>\n",
       "      <td>0</td>\n",
       "      <td>0</td>\n",
       "      <td>0</td>\n",
       "      <td>0</td>\n",
       "      <td>0</td>\n",
       "      <td>0</td>\n",
       "      <td>0</td>\n",
       "      <td>0</td>\n",
       "      <td>...</td>\n",
       "      <td>0</td>\n",
       "      <td>0</td>\n",
       "      <td>0</td>\n",
       "      <td>0</td>\n",
       "      <td>0</td>\n",
       "      <td>0</td>\n",
       "      <td>0</td>\n",
       "      <td>0</td>\n",
       "      <td>0</td>\n",
       "      <td>1</td>\n",
       "    </tr>\n",
       "    <tr>\n",
       "      <th>4</th>\n",
       "      <td>0</td>\n",
       "      <td>0</td>\n",
       "      <td>0</td>\n",
       "      <td>0</td>\n",
       "      <td>0</td>\n",
       "      <td>0</td>\n",
       "      <td>0</td>\n",
       "      <td>0</td>\n",
       "      <td>0</td>\n",
       "      <td>0</td>\n",
       "      <td>...</td>\n",
       "      <td>0</td>\n",
       "      <td>0</td>\n",
       "      <td>0</td>\n",
       "      <td>0</td>\n",
       "      <td>0</td>\n",
       "      <td>0</td>\n",
       "      <td>0</td>\n",
       "      <td>0</td>\n",
       "      <td>0</td>\n",
       "      <td>0</td>\n",
       "    </tr>\n",
       "    <tr>\n",
       "      <th>...</th>\n",
       "      <td>...</td>\n",
       "      <td>...</td>\n",
       "      <td>...</td>\n",
       "      <td>...</td>\n",
       "      <td>...</td>\n",
       "      <td>...</td>\n",
       "      <td>...</td>\n",
       "      <td>...</td>\n",
       "      <td>...</td>\n",
       "      <td>...</td>\n",
       "      <td>...</td>\n",
       "      <td>...</td>\n",
       "      <td>...</td>\n",
       "      <td>...</td>\n",
       "      <td>...</td>\n",
       "      <td>...</td>\n",
       "      <td>...</td>\n",
       "      <td>...</td>\n",
       "      <td>...</td>\n",
       "      <td>...</td>\n",
       "      <td>...</td>\n",
       "    </tr>\n",
       "    <tr>\n",
       "      <th>51205</th>\n",
       "      <td>0</td>\n",
       "      <td>0</td>\n",
       "      <td>0</td>\n",
       "      <td>0</td>\n",
       "      <td>0</td>\n",
       "      <td>0</td>\n",
       "      <td>0</td>\n",
       "      <td>0</td>\n",
       "      <td>0</td>\n",
       "      <td>0</td>\n",
       "      <td>...</td>\n",
       "      <td>0</td>\n",
       "      <td>0</td>\n",
       "      <td>0</td>\n",
       "      <td>0</td>\n",
       "      <td>0</td>\n",
       "      <td>0</td>\n",
       "      <td>0</td>\n",
       "      <td>0</td>\n",
       "      <td>0</td>\n",
       "      <td>0</td>\n",
       "    </tr>\n",
       "    <tr>\n",
       "      <th>51206</th>\n",
       "      <td>0</td>\n",
       "      <td>0</td>\n",
       "      <td>0</td>\n",
       "      <td>1</td>\n",
       "      <td>0</td>\n",
       "      <td>1</td>\n",
       "      <td>0</td>\n",
       "      <td>0</td>\n",
       "      <td>0</td>\n",
       "      <td>0</td>\n",
       "      <td>...</td>\n",
       "      <td>0</td>\n",
       "      <td>0</td>\n",
       "      <td>0</td>\n",
       "      <td>0</td>\n",
       "      <td>0</td>\n",
       "      <td>0</td>\n",
       "      <td>0</td>\n",
       "      <td>0</td>\n",
       "      <td>0</td>\n",
       "      <td>0</td>\n",
       "    </tr>\n",
       "    <tr>\n",
       "      <th>51207</th>\n",
       "      <td>0</td>\n",
       "      <td>0</td>\n",
       "      <td>0</td>\n",
       "      <td>0</td>\n",
       "      <td>0</td>\n",
       "      <td>0</td>\n",
       "      <td>0</td>\n",
       "      <td>0</td>\n",
       "      <td>0</td>\n",
       "      <td>0</td>\n",
       "      <td>...</td>\n",
       "      <td>0</td>\n",
       "      <td>0</td>\n",
       "      <td>0</td>\n",
       "      <td>0</td>\n",
       "      <td>0</td>\n",
       "      <td>0</td>\n",
       "      <td>0</td>\n",
       "      <td>0</td>\n",
       "      <td>0</td>\n",
       "      <td>0</td>\n",
       "    </tr>\n",
       "    <tr>\n",
       "      <th>51208</th>\n",
       "      <td>0</td>\n",
       "      <td>0</td>\n",
       "      <td>0</td>\n",
       "      <td>1</td>\n",
       "      <td>0</td>\n",
       "      <td>0</td>\n",
       "      <td>0</td>\n",
       "      <td>0</td>\n",
       "      <td>0</td>\n",
       "      <td>0</td>\n",
       "      <td>...</td>\n",
       "      <td>0</td>\n",
       "      <td>0</td>\n",
       "      <td>0</td>\n",
       "      <td>0</td>\n",
       "      <td>0</td>\n",
       "      <td>0</td>\n",
       "      <td>0</td>\n",
       "      <td>0</td>\n",
       "      <td>0</td>\n",
       "      <td>0</td>\n",
       "    </tr>\n",
       "    <tr>\n",
       "      <th>51209</th>\n",
       "      <td>0</td>\n",
       "      <td>0</td>\n",
       "      <td>0</td>\n",
       "      <td>0</td>\n",
       "      <td>0</td>\n",
       "      <td>0</td>\n",
       "      <td>0</td>\n",
       "      <td>0</td>\n",
       "      <td>0</td>\n",
       "      <td>0</td>\n",
       "      <td>...</td>\n",
       "      <td>0</td>\n",
       "      <td>0</td>\n",
       "      <td>0</td>\n",
       "      <td>0</td>\n",
       "      <td>0</td>\n",
       "      <td>0</td>\n",
       "      <td>0</td>\n",
       "      <td>0</td>\n",
       "      <td>0</td>\n",
       "      <td>0</td>\n",
       "    </tr>\n",
       "  </tbody>\n",
       "</table>\n",
       "<p>51210 rows × 57 columns</p>\n",
       "</div>"
      ],
      "text/plain": [
       "       cs.AI  cs.AR  cs.CE  cs.CL  cs.CR  cs.CV  cs.DB  cs.DC  cs.DM  cs.GT  \\\n",
       "0          0      0      0      0      0      0      0      0      0      0   \n",
       "1          0      0      0      0      0      0      0      0      0      0   \n",
       "2          0      0      0      0      0      0      0      0      0      0   \n",
       "3          0      0      0      0      0      0      0      0      0      0   \n",
       "4          0      0      0      0      0      0      0      0      0      0   \n",
       "...      ...    ...    ...    ...    ...    ...    ...    ...    ...    ...   \n",
       "51205      0      0      0      0      0      0      0      0      0      0   \n",
       "51206      0      0      0      1      0      1      0      0      0      0   \n",
       "51207      0      0      0      0      0      0      0      0      0      0   \n",
       "51208      0      0      0      1      0      0      0      0      0      0   \n",
       "51209      0      0      0      0      0      0      0      0      0      0   \n",
       "\n",
       "       ...  q-fin.MF  q-fin.PM  q-fin.PR  q-fin.RM  q-fin.TR  stat.AP  \\\n",
       "0      ...         0         0         0         0         0        0   \n",
       "1      ...         0         0         0         0         0        0   \n",
       "2      ...         0         0         0         0         0        0   \n",
       "3      ...         0         0         0         0         0        0   \n",
       "4      ...         0         0         0         0         0        0   \n",
       "...    ...       ...       ...       ...       ...       ...      ...   \n",
       "51205  ...         0         0         0         0         0        0   \n",
       "51206  ...         0         0         0         0         0        0   \n",
       "51207  ...         0         0         0         0         0        0   \n",
       "51208  ...         0         0         0         0         0        0   \n",
       "51209  ...         0         0         0         0         0        0   \n",
       "\n",
       "       stat.CO  stat.ME  stat.ML  stat.TH  \n",
       "0            0        0        0        0  \n",
       "1            0        0        0        0  \n",
       "2            0        0        0        0  \n",
       "3            0        0        0        1  \n",
       "4            0        0        0        0  \n",
       "...        ...      ...      ...      ...  \n",
       "51205        0        0        0        0  \n",
       "51206        0        0        0        0  \n",
       "51207        0        0        0        0  \n",
       "51208        0        0        0        0  \n",
       "51209        0        0        0        0  \n",
       "\n",
       "[51210 rows x 57 columns]"
      ]
     },
     "execution_count": 8,
     "metadata": {},
     "output_type": "execute_result"
    }
   ],
   "source": [
    "y = pd.DataFrame(y, columns=multilabel.classes_)\n",
    "y"
   ]
  },
  {
   "cell_type": "code",
   "execution_count": 9,
   "metadata": {
    "execution": {
     "iopub.execute_input": "2025-06-20T09:48:59.863250Z",
     "iopub.status.busy": "2025-06-20T09:48:59.863051Z",
     "iopub.status.idle": "2025-06-20T09:48:59.945543Z",
     "shell.execute_reply": "2025-06-20T09:48:59.944792Z",
     "shell.execute_reply.started": "2025-06-20T09:48:59.863235Z"
    },
    "trusted": true
   },
   "outputs": [],
   "source": [
    "train['comment_text'] = train['Title'] + '. ' + train['Abstract']\n",
    "train = train['comment_text']\n",
    "test['comment_text'] = test['Title'] + '. ' + test['Abstract']\n",
    "#test = test['comment_text']"
   ]
  },
  {
   "cell_type": "code",
   "execution_count": 10,
   "metadata": {
    "execution": {
     "iopub.execute_input": "2025-06-20T09:48:59.946548Z",
     "iopub.status.busy": "2025-06-20T09:48:59.946282Z",
     "iopub.status.idle": "2025-06-20T09:49:00.000908Z",
     "shell.execute_reply": "2025-06-20T09:49:00.000366Z",
     "shell.execute_reply.started": "2025-06-20T09:48:59.946521Z"
    },
    "trusted": true
   },
   "outputs": [],
   "source": [
    "train = pd.concat([train, y], axis=1, join='inner')"
   ]
  },
  {
   "cell_type": "code",
   "execution_count": null,
   "metadata": {
    "execution": {
     "iopub.execute_input": "2025-06-20T09:49:00.015423Z",
     "iopub.status.busy": "2025-06-20T09:49:00.015167Z",
     "iopub.status.idle": "2025-06-20T09:49:00.029693Z",
     "shell.execute_reply": "2025-06-20T09:49:00.029170Z",
     "shell.execute_reply.started": "2025-06-20T09:49:00.015406Z"
    },
    "trusted": true
   },
   "outputs": [
    {
     "name": "stdout",
     "output_type": "stream",
     "text": [
      "(51210, 58)\n",
      "(10974, 4)\n"
     ]
    }
   ],
   "source": [
    "print(train.shape)"
   ]
  },
  {
   "cell_type": "markdown",
   "metadata": {},
   "source": [
    "<h1 style=\"font-family: Verdana; font-size: 24px; font-style: normal; font-weight: bold; text-decoration: none; text-transform: none; letter-spacing: 3px; background-color: #ffffff; color: navy;\">Do some cleaning on the data&nbsp;&nbsp;&nbsp;&nbsp;</h1> "
   ]
  },
  {
   "cell_type": "code",
   "execution_count": 13,
   "metadata": {
    "execution": {
     "iopub.execute_input": "2025-06-20T09:49:00.030694Z",
     "iopub.status.busy": "2025-06-20T09:49:00.030400Z",
     "iopub.status.idle": "2025-06-20T09:49:00.044036Z",
     "shell.execute_reply": "2025-06-20T09:49:00.043502Z",
     "shell.execute_reply.started": "2025-06-20T09:49:00.030674Z"
    },
    "trusted": true
   },
   "outputs": [],
   "source": [
    "import re,string\n",
    "\n",
    "def strip_links(text):\n",
    "    link_regex    = re.compile('((https?):((//)|(\\\\\\\\))+([\\w\\d:#@%/;$()~_?\\+-=\\\\\\.&](#!)?)*)', re.DOTALL)\n",
    "    links         = re.findall(link_regex, text)\n",
    "    for link in links:\n",
    "        text = text.replace(link[0], ', ')    \n",
    "    return text"
   ]
  },
  {
   "cell_type": "code",
   "execution_count": 14,
   "metadata": {
    "execution": {
     "iopub.execute_input": "2025-06-20T09:49:00.045061Z",
     "iopub.status.busy": "2025-06-20T09:49:00.044821Z",
     "iopub.status.idle": "2025-06-20T09:49:00.236942Z",
     "shell.execute_reply": "2025-06-20T09:49:00.236250Z",
     "shell.execute_reply.started": "2025-06-20T09:49:00.045019Z"
    },
    "trusted": true
   },
   "outputs": [],
   "source": [
    "train['comment_text']=train['comment_text'].apply(lambda x:strip_links(x))\n",
    "test['comment_text']=test['comment_text'].apply(lambda x:strip_links(x))"
   ]
  },
  {
   "cell_type": "code",
   "execution_count": 15,
   "metadata": {
    "execution": {
     "iopub.execute_input": "2025-06-20T09:49:00.238038Z",
     "iopub.status.busy": "2025-06-20T09:49:00.237774Z",
     "iopub.status.idle": "2025-06-20T09:49:00.317161Z",
     "shell.execute_reply": "2025-06-20T09:49:00.316416Z",
     "shell.execute_reply.started": "2025-06-20T09:49:00.238018Z"
    },
    "trusted": true
   },
   "outputs": [],
   "source": [
    "### replace :\\n \n",
    "train['comment_text']=train['comment_text'].str.replace(\"\\n\",' ')"
   ]
  },
  {
   "cell_type": "code",
   "execution_count": 16,
   "metadata": {
    "execution": {
     "iopub.execute_input": "2025-06-20T09:49:00.318167Z",
     "iopub.status.busy": "2025-06-20T09:49:00.317918Z",
     "iopub.status.idle": "2025-06-20T09:49:00.338943Z",
     "shell.execute_reply": "2025-06-20T09:49:00.338453Z",
     "shell.execute_reply.started": "2025-06-20T09:49:00.318151Z"
    },
    "trusted": true
   },
   "outputs": [],
   "source": [
    "### replace :\\n \n",
    "test['comment_text']=test['comment_text'].str.replace(\"\\n\",' ')"
   ]
  },
  {
   "cell_type": "code",
   "execution_count": 17,
   "metadata": {
    "execution": {
     "iopub.execute_input": "2025-06-20T09:49:00.339885Z",
     "iopub.status.busy": "2025-06-20T09:49:00.339651Z",
     "iopub.status.idle": "2025-06-20T09:49:01.715779Z",
     "shell.execute_reply": "2025-06-20T09:49:01.715028Z",
     "shell.execute_reply.started": "2025-06-20T09:49:00.339867Z"
    },
    "trusted": true
   },
   "outputs": [],
   "source": [
    "# Define the function to remove the punctuation\n",
    "def remove_punctuations(text):\n",
    "    for punctuation in string.punctuation:\n",
    "        text = text.replace(punctuation, '')\n",
    "    return text\n",
    "# Apply to the DF series\n",
    "train['comment_text'] = train['comment_text'].apply(remove_punctuations) "
   ]
  },
  {
   "cell_type": "code",
   "execution_count": 18,
   "metadata": {
    "execution": {
     "iopub.execute_input": "2025-06-20T09:49:01.717043Z",
     "iopub.status.busy": "2025-06-20T09:49:01.716758Z",
     "iopub.status.idle": "2025-06-20T09:49:02.007859Z",
     "shell.execute_reply": "2025-06-20T09:49:02.007358Z",
     "shell.execute_reply.started": "2025-06-20T09:49:01.717020Z"
    },
    "trusted": true
   },
   "outputs": [],
   "source": [
    "# Apply to the DF series\n",
    "test['comment_text'] = test['comment_text'].apply(remove_punctuations) "
   ]
  },
  {
   "cell_type": "markdown",
   "metadata": {},
   "source": [
    "<h1 style=\"font-family: Verdana; font-size: 24px; font-style: normal; font-weight: bold; text-decoration: none; text-transform: none; letter-spacing: 3px; background-color: #ffffff; color: navy;\">Train and Val split&nbsp;&nbsp;&nbsp;&nbsp;</h1> "
   ]
  },
  {
   "cell_type": "code",
   "execution_count": 19,
   "metadata": {
    "execution": {
     "iopub.execute_input": "2025-06-20T09:49:02.008878Z",
     "iopub.status.busy": "2025-06-20T09:49:02.008592Z",
     "iopub.status.idle": "2025-06-20T09:49:02.031972Z",
     "shell.execute_reply": "2025-06-20T09:49:02.031468Z",
     "shell.execute_reply.started": "2025-06-20T09:49:02.008854Z"
    },
    "trusted": true
   },
   "outputs": [
    {
     "data": {
      "text/html": [
       "<div>\n",
       "<style scoped>\n",
       "    .dataframe tbody tr th:only-of-type {\n",
       "        vertical-align: middle;\n",
       "    }\n",
       "\n",
       "    .dataframe tbody tr th {\n",
       "        vertical-align: top;\n",
       "    }\n",
       "\n",
       "    .dataframe thead th {\n",
       "        text-align: right;\n",
       "    }\n",
       "</style>\n",
       "<table border=\"1\" class=\"dataframe\">\n",
       "  <thead>\n",
       "    <tr style=\"text-align: right;\">\n",
       "      <th></th>\n",
       "      <th>cs.AI</th>\n",
       "      <th>cs.AR</th>\n",
       "      <th>cs.CE</th>\n",
       "      <th>cs.CL</th>\n",
       "      <th>cs.CR</th>\n",
       "      <th>cs.CV</th>\n",
       "      <th>cs.DB</th>\n",
       "      <th>cs.DC</th>\n",
       "      <th>cs.DM</th>\n",
       "      <th>cs.GT</th>\n",
       "      <th>...</th>\n",
       "      <th>q-fin.MF</th>\n",
       "      <th>q-fin.PM</th>\n",
       "      <th>q-fin.PR</th>\n",
       "      <th>q-fin.RM</th>\n",
       "      <th>q-fin.TR</th>\n",
       "      <th>stat.AP</th>\n",
       "      <th>stat.CO</th>\n",
       "      <th>stat.ME</th>\n",
       "      <th>stat.ML</th>\n",
       "      <th>stat.TH</th>\n",
       "    </tr>\n",
       "  </thead>\n",
       "  <tbody>\n",
       "    <tr>\n",
       "      <th>0</th>\n",
       "      <td>0</td>\n",
       "      <td>0</td>\n",
       "      <td>0</td>\n",
       "      <td>0</td>\n",
       "      <td>0</td>\n",
       "      <td>0</td>\n",
       "      <td>0</td>\n",
       "      <td>0</td>\n",
       "      <td>0</td>\n",
       "      <td>0</td>\n",
       "      <td>...</td>\n",
       "      <td>0</td>\n",
       "      <td>0</td>\n",
       "      <td>0</td>\n",
       "      <td>0</td>\n",
       "      <td>0</td>\n",
       "      <td>0</td>\n",
       "      <td>0</td>\n",
       "      <td>0</td>\n",
       "      <td>0</td>\n",
       "      <td>0</td>\n",
       "    </tr>\n",
       "    <tr>\n",
       "      <th>1</th>\n",
       "      <td>0</td>\n",
       "      <td>0</td>\n",
       "      <td>0</td>\n",
       "      <td>0</td>\n",
       "      <td>0</td>\n",
       "      <td>0</td>\n",
       "      <td>0</td>\n",
       "      <td>0</td>\n",
       "      <td>0</td>\n",
       "      <td>0</td>\n",
       "      <td>...</td>\n",
       "      <td>0</td>\n",
       "      <td>0</td>\n",
       "      <td>0</td>\n",
       "      <td>0</td>\n",
       "      <td>0</td>\n",
       "      <td>0</td>\n",
       "      <td>0</td>\n",
       "      <td>0</td>\n",
       "      <td>0</td>\n",
       "      <td>0</td>\n",
       "    </tr>\n",
       "    <tr>\n",
       "      <th>2</th>\n",
       "      <td>0</td>\n",
       "      <td>0</td>\n",
       "      <td>0</td>\n",
       "      <td>0</td>\n",
       "      <td>0</td>\n",
       "      <td>0</td>\n",
       "      <td>0</td>\n",
       "      <td>0</td>\n",
       "      <td>0</td>\n",
       "      <td>0</td>\n",
       "      <td>...</td>\n",
       "      <td>0</td>\n",
       "      <td>0</td>\n",
       "      <td>0</td>\n",
       "      <td>0</td>\n",
       "      <td>0</td>\n",
       "      <td>0</td>\n",
       "      <td>0</td>\n",
       "      <td>0</td>\n",
       "      <td>0</td>\n",
       "      <td>0</td>\n",
       "    </tr>\n",
       "    <tr>\n",
       "      <th>3</th>\n",
       "      <td>0</td>\n",
       "      <td>0</td>\n",
       "      <td>0</td>\n",
       "      <td>0</td>\n",
       "      <td>0</td>\n",
       "      <td>0</td>\n",
       "      <td>0</td>\n",
       "      <td>0</td>\n",
       "      <td>0</td>\n",
       "      <td>0</td>\n",
       "      <td>...</td>\n",
       "      <td>0</td>\n",
       "      <td>0</td>\n",
       "      <td>0</td>\n",
       "      <td>0</td>\n",
       "      <td>0</td>\n",
       "      <td>0</td>\n",
       "      <td>0</td>\n",
       "      <td>0</td>\n",
       "      <td>0</td>\n",
       "      <td>1</td>\n",
       "    </tr>\n",
       "    <tr>\n",
       "      <th>4</th>\n",
       "      <td>0</td>\n",
       "      <td>0</td>\n",
       "      <td>0</td>\n",
       "      <td>0</td>\n",
       "      <td>0</td>\n",
       "      <td>0</td>\n",
       "      <td>0</td>\n",
       "      <td>0</td>\n",
       "      <td>0</td>\n",
       "      <td>0</td>\n",
       "      <td>...</td>\n",
       "      <td>0</td>\n",
       "      <td>0</td>\n",
       "      <td>0</td>\n",
       "      <td>0</td>\n",
       "      <td>0</td>\n",
       "      <td>0</td>\n",
       "      <td>0</td>\n",
       "      <td>0</td>\n",
       "      <td>0</td>\n",
       "      <td>0</td>\n",
       "    </tr>\n",
       "    <tr>\n",
       "      <th>...</th>\n",
       "      <td>...</td>\n",
       "      <td>...</td>\n",
       "      <td>...</td>\n",
       "      <td>...</td>\n",
       "      <td>...</td>\n",
       "      <td>...</td>\n",
       "      <td>...</td>\n",
       "      <td>...</td>\n",
       "      <td>...</td>\n",
       "      <td>...</td>\n",
       "      <td>...</td>\n",
       "      <td>...</td>\n",
       "      <td>...</td>\n",
       "      <td>...</td>\n",
       "      <td>...</td>\n",
       "      <td>...</td>\n",
       "      <td>...</td>\n",
       "      <td>...</td>\n",
       "      <td>...</td>\n",
       "      <td>...</td>\n",
       "      <td>...</td>\n",
       "    </tr>\n",
       "    <tr>\n",
       "      <th>51205</th>\n",
       "      <td>0</td>\n",
       "      <td>0</td>\n",
       "      <td>0</td>\n",
       "      <td>0</td>\n",
       "      <td>0</td>\n",
       "      <td>0</td>\n",
       "      <td>0</td>\n",
       "      <td>0</td>\n",
       "      <td>0</td>\n",
       "      <td>0</td>\n",
       "      <td>...</td>\n",
       "      <td>0</td>\n",
       "      <td>0</td>\n",
       "      <td>0</td>\n",
       "      <td>0</td>\n",
       "      <td>0</td>\n",
       "      <td>0</td>\n",
       "      <td>0</td>\n",
       "      <td>0</td>\n",
       "      <td>0</td>\n",
       "      <td>0</td>\n",
       "    </tr>\n",
       "    <tr>\n",
       "      <th>51206</th>\n",
       "      <td>0</td>\n",
       "      <td>0</td>\n",
       "      <td>0</td>\n",
       "      <td>1</td>\n",
       "      <td>0</td>\n",
       "      <td>1</td>\n",
       "      <td>0</td>\n",
       "      <td>0</td>\n",
       "      <td>0</td>\n",
       "      <td>0</td>\n",
       "      <td>...</td>\n",
       "      <td>0</td>\n",
       "      <td>0</td>\n",
       "      <td>0</td>\n",
       "      <td>0</td>\n",
       "      <td>0</td>\n",
       "      <td>0</td>\n",
       "      <td>0</td>\n",
       "      <td>0</td>\n",
       "      <td>0</td>\n",
       "      <td>0</td>\n",
       "    </tr>\n",
       "    <tr>\n",
       "      <th>51207</th>\n",
       "      <td>0</td>\n",
       "      <td>0</td>\n",
       "      <td>0</td>\n",
       "      <td>0</td>\n",
       "      <td>0</td>\n",
       "      <td>0</td>\n",
       "      <td>0</td>\n",
       "      <td>0</td>\n",
       "      <td>0</td>\n",
       "      <td>0</td>\n",
       "      <td>...</td>\n",
       "      <td>0</td>\n",
       "      <td>0</td>\n",
       "      <td>0</td>\n",
       "      <td>0</td>\n",
       "      <td>0</td>\n",
       "      <td>0</td>\n",
       "      <td>0</td>\n",
       "      <td>0</td>\n",
       "      <td>0</td>\n",
       "      <td>0</td>\n",
       "    </tr>\n",
       "    <tr>\n",
       "      <th>51208</th>\n",
       "      <td>0</td>\n",
       "      <td>0</td>\n",
       "      <td>0</td>\n",
       "      <td>1</td>\n",
       "      <td>0</td>\n",
       "      <td>0</td>\n",
       "      <td>0</td>\n",
       "      <td>0</td>\n",
       "      <td>0</td>\n",
       "      <td>0</td>\n",
       "      <td>...</td>\n",
       "      <td>0</td>\n",
       "      <td>0</td>\n",
       "      <td>0</td>\n",
       "      <td>0</td>\n",
       "      <td>0</td>\n",
       "      <td>0</td>\n",
       "      <td>0</td>\n",
       "      <td>0</td>\n",
       "      <td>0</td>\n",
       "      <td>0</td>\n",
       "    </tr>\n",
       "    <tr>\n",
       "      <th>51209</th>\n",
       "      <td>0</td>\n",
       "      <td>0</td>\n",
       "      <td>0</td>\n",
       "      <td>0</td>\n",
       "      <td>0</td>\n",
       "      <td>0</td>\n",
       "      <td>0</td>\n",
       "      <td>0</td>\n",
       "      <td>0</td>\n",
       "      <td>0</td>\n",
       "      <td>...</td>\n",
       "      <td>0</td>\n",
       "      <td>0</td>\n",
       "      <td>0</td>\n",
       "      <td>0</td>\n",
       "      <td>0</td>\n",
       "      <td>0</td>\n",
       "      <td>0</td>\n",
       "      <td>0</td>\n",
       "      <td>0</td>\n",
       "      <td>0</td>\n",
       "    </tr>\n",
       "  </tbody>\n",
       "</table>\n",
       "<p>51210 rows × 57 columns</p>\n",
       "</div>"
      ],
      "text/plain": [
       "       cs.AI  cs.AR  cs.CE  cs.CL  cs.CR  cs.CV  cs.DB  cs.DC  cs.DM  cs.GT  \\\n",
       "0          0      0      0      0      0      0      0      0      0      0   \n",
       "1          0      0      0      0      0      0      0      0      0      0   \n",
       "2          0      0      0      0      0      0      0      0      0      0   \n",
       "3          0      0      0      0      0      0      0      0      0      0   \n",
       "4          0      0      0      0      0      0      0      0      0      0   \n",
       "...      ...    ...    ...    ...    ...    ...    ...    ...    ...    ...   \n",
       "51205      0      0      0      0      0      0      0      0      0      0   \n",
       "51206      0      0      0      1      0      1      0      0      0      0   \n",
       "51207      0      0      0      0      0      0      0      0      0      0   \n",
       "51208      0      0      0      1      0      0      0      0      0      0   \n",
       "51209      0      0      0      0      0      0      0      0      0      0   \n",
       "\n",
       "       ...  q-fin.MF  q-fin.PM  q-fin.PR  q-fin.RM  q-fin.TR  stat.AP  \\\n",
       "0      ...         0         0         0         0         0        0   \n",
       "1      ...         0         0         0         0         0        0   \n",
       "2      ...         0         0         0         0         0        0   \n",
       "3      ...         0         0         0         0         0        0   \n",
       "4      ...         0         0         0         0         0        0   \n",
       "...    ...       ...       ...       ...       ...       ...      ...   \n",
       "51205  ...         0         0         0         0         0        0   \n",
       "51206  ...         0         0         0         0         0        0   \n",
       "51207  ...         0         0         0         0         0        0   \n",
       "51208  ...         0         0         0         0         0        0   \n",
       "51209  ...         0         0         0         0         0        0   \n",
       "\n",
       "       stat.CO  stat.ME  stat.ML  stat.TH  \n",
       "0            0        0        0        0  \n",
       "1            0        0        0        0  \n",
       "2            0        0        0        0  \n",
       "3            0        0        0        1  \n",
       "4            0        0        0        0  \n",
       "...        ...      ...      ...      ...  \n",
       "51205        0        0        0        0  \n",
       "51206        0        0        0        0  \n",
       "51207        0        0        0        0  \n",
       "51208        0        0        0        0  \n",
       "51209        0        0        0        0  \n",
       "\n",
       "[51210 rows x 57 columns]"
      ]
     },
     "execution_count": 19,
     "metadata": {},
     "output_type": "execute_result"
    }
   ],
   "source": [
    "y"
   ]
  },
  {
   "cell_type": "code",
   "execution_count": 20,
   "metadata": {
    "execution": {
     "iopub.execute_input": "2025-06-20T09:49:02.032813Z",
     "iopub.status.busy": "2025-06-20T09:49:02.032586Z",
     "iopub.status.idle": "2025-06-20T09:49:02.048532Z",
     "shell.execute_reply": "2025-06-20T09:49:02.048024Z",
     "shell.execute_reply.started": "2025-06-20T09:49:02.032798Z"
    },
    "trusted": true
   },
   "outputs": [],
   "source": [
    "X_train, X_test, y_train, y_test = train_test_split(train.comment_text.values, y,  \n",
    "                                                  random_state=42, \n",
    "                                                  test_size=0.2)"
   ]
  },
  {
   "cell_type": "markdown",
   "metadata": {},
   "source": [
    "<h1 style=\"font-family: Verdana; font-size: 24px; font-style: normal; font-weight: bold; text-decoration: none; text-transform: none; letter-spacing: 3px; background-color: #ffffff; color: navy;\">Define Vocab size and input string size&nbsp;&nbsp;&nbsp;&nbsp;</h1> "
   ]
  },
  {
   "cell_type": "code",
   "execution_count": 21,
   "metadata": {
    "execution": {
     "iopub.execute_input": "2025-06-20T09:49:02.049489Z",
     "iopub.status.busy": "2025-06-20T09:49:02.049257Z",
     "iopub.status.idle": "2025-06-20T09:49:02.446513Z",
     "shell.execute_reply": "2025-06-20T09:49:02.445958Z",
     "shell.execute_reply.started": "2025-06-20T09:49:02.049469Z"
    },
    "trusted": true
   },
   "outputs": [
    {
     "data": {
      "text/plain": [
       "452"
      ]
     },
     "execution_count": 21,
     "metadata": {},
     "output_type": "execute_result"
    }
   ],
   "source": [
    "## Check lenght of text in the data\n",
    "train['comment_text'].apply(lambda x:len(str(x).split())).max()"
   ]
  },
  {
   "cell_type": "code",
   "execution_count": 22,
   "metadata": {
    "execution": {
     "iopub.execute_input": "2025-06-20T09:49:02.447532Z",
     "iopub.status.busy": "2025-06-20T09:49:02.447286Z",
     "iopub.status.idle": "2025-06-20T09:49:02.450720Z",
     "shell.execute_reply": "2025-06-20T09:49:02.450185Z",
     "shell.execute_reply.started": "2025-06-20T09:49:02.447508Z"
    },
    "trusted": true
   },
   "outputs": [],
   "source": [
    "max_features = 5000\n",
    "maxlen = 500"
   ]
  },
  {
   "cell_type": "code",
   "execution_count": 23,
   "metadata": {
    "execution": {
     "iopub.execute_input": "2025-06-20T09:49:02.451790Z",
     "iopub.status.busy": "2025-06-20T09:49:02.451525Z",
     "iopub.status.idle": "2025-06-20T09:49:06.386244Z",
     "shell.execute_reply": "2025-06-20T09:49:06.385446Z",
     "shell.execute_reply.started": "2025-06-20T09:49:02.451769Z"
    },
    "trusted": true
   },
   "outputs": [],
   "source": [
    "token=tf.keras.preprocessing.text.Tokenizer(num_words=max_features)\n",
    "token.fit_on_texts(train.comment_text)"
   ]
  },
  {
   "cell_type": "code",
   "execution_count": 24,
   "metadata": {
    "execution": {
     "iopub.execute_input": "2025-06-20T09:49:06.387325Z",
     "iopub.status.busy": "2025-06-20T09:49:06.387069Z",
     "iopub.status.idle": "2025-06-20T09:49:08.937435Z",
     "shell.execute_reply": "2025-06-20T09:49:08.936864Z",
     "shell.execute_reply.started": "2025-06-20T09:49:06.387300Z"
    },
    "trusted": true
   },
   "outputs": [],
   "source": [
    "X_train_seq=token.texts_to_sequences(X_train)\n",
    "X_test_seq=token.texts_to_sequences(X_test)"
   ]
  },
  {
   "cell_type": "code",
   "execution_count": 25,
   "metadata": {
    "execution": {
     "iopub.execute_input": "2025-06-20T09:49:08.938334Z",
     "iopub.status.busy": "2025-06-20T09:49:08.938090Z",
     "iopub.status.idle": "2025-06-20T09:49:09.380696Z",
     "shell.execute_reply": "2025-06-20T09:49:09.379944Z",
     "shell.execute_reply.started": "2025-06-20T09:49:08.938313Z"
    },
    "trusted": true
   },
   "outputs": [],
   "source": [
    "#zero pad the sequences\n",
    "X_train_pad = sequence.pad_sequences(X_train_seq, maxlen=maxlen)\n",
    "X_test_pad = sequence.pad_sequences(X_test_seq, maxlen=maxlen)"
   ]
  },
  {
   "cell_type": "code",
   "execution_count": 26,
   "metadata": {
    "execution": {
     "iopub.execute_input": "2025-06-20T09:49:09.381797Z",
     "iopub.status.busy": "2025-06-20T09:49:09.381539Z",
     "iopub.status.idle": "2025-06-20T09:49:09.385410Z",
     "shell.execute_reply": "2025-06-20T09:49:09.384642Z",
     "shell.execute_reply.started": "2025-06-20T09:49:09.381772Z"
    },
    "trusted": true
   },
   "outputs": [],
   "source": [
    "word_index = token.word_index"
   ]
  },
  {
   "cell_type": "code",
   "execution_count": 27,
   "metadata": {
    "execution": {
     "iopub.execute_input": "2025-06-20T09:49:09.386221Z",
     "iopub.status.busy": "2025-06-20T09:49:09.386057Z",
     "iopub.status.idle": "2025-06-20T09:49:09.401971Z",
     "shell.execute_reply": "2025-06-20T09:49:09.401410Z",
     "shell.execute_reply.started": "2025-06-20T09:49:09.386208Z"
    },
    "trusted": true
   },
   "outputs": [
    {
     "data": {
      "text/plain": [
       "154103"
      ]
     },
     "execution_count": 27,
     "metadata": {},
     "output_type": "execute_result"
    }
   ],
   "source": [
    "len(token.word_index)##251102"
   ]
  },
  {
   "cell_type": "markdown",
   "metadata": {},
   "source": [
    "<h1 style=\"font-family: Verdana; font-size: 24px; font-style: normal; font-weight: bold; text-decoration: none; text-transform: none; letter-spacing: 3px; background-color: #ffffff; color: navy;\">Word2Vec embeddings&nbsp;&nbsp;&nbsp;&nbsp;</h1> "
   ]
  },
  {
   "cell_type": "code",
   "execution_count": 28,
   "metadata": {
    "execution": {
     "iopub.execute_input": "2025-06-20T09:49:09.403022Z",
     "iopub.status.busy": "2025-06-20T09:49:09.402790Z",
     "iopub.status.idle": "2025-06-20T09:49:09.415474Z",
     "shell.execute_reply": "2025-06-20T09:49:09.414870Z",
     "shell.execute_reply.started": "2025-06-20T09:49:09.403003Z"
    },
    "trusted": true
   },
   "outputs": [],
   "source": [
    "# from gensim.models import Word2Vec, KeyedVectors\n",
    "# # Load pretrained Glove model (in word2vec form)\n",
    "# word2vec_model = KeyedVectors.load_word2vec_format(\"/kaggle/input/embedings/GoogleNews-vectors-negative300.bin\", binary=True)"
   ]
  },
  {
   "cell_type": "code",
   "execution_count": 29,
   "metadata": {
    "execution": {
     "iopub.execute_input": "2025-06-20T09:49:09.419145Z",
     "iopub.status.busy": "2025-06-20T09:49:09.418935Z",
     "iopub.status.idle": "2025-06-20T09:50:40.123842Z",
     "shell.execute_reply": "2025-06-20T09:50:40.123292Z",
     "shell.execute_reply.started": "2025-06-20T09:49:09.419132Z"
    },
    "trusted": true
   },
   "outputs": [],
   "source": [
    "from gensim.models import Word2Vec, KeyedVectors\n",
    "# Load pretrained Glove model (in word2vec form)\n",
    "word2vec_model = KeyedVectors.load_word2vec_format(\"/kaggle/input/googlenewsvectorsnegative300/GoogleNews-vectors-negative300.bin\", binary=True)"
   ]
  },
  {
   "cell_type": "code",
   "execution_count": 30,
   "metadata": {
    "execution": {
     "iopub.execute_input": "2025-06-20T09:50:40.124749Z",
     "iopub.status.busy": "2025-06-20T09:50:40.124547Z",
     "iopub.status.idle": "2025-06-20T09:50:40.128337Z",
     "shell.execute_reply": "2025-06-20T09:50:40.127819Z",
     "shell.execute_reply.started": "2025-06-20T09:50:40.124733Z"
    },
    "trusted": true
   },
   "outputs": [],
   "source": [
    "#Embedding length based on selected model - we are using 50d here.\n",
    "embedding_vector_length = 300"
   ]
  },
  {
   "cell_type": "code",
   "execution_count": 31,
   "metadata": {
    "execution": {
     "iopub.execute_input": "2025-06-20T09:50:40.129247Z",
     "iopub.status.busy": "2025-06-20T09:50:40.129044Z",
     "iopub.status.idle": "2025-06-20T09:50:40.145544Z",
     "shell.execute_reply": "2025-06-20T09:50:40.145022Z",
     "shell.execute_reply.started": "2025-06-20T09:50:40.129233Z"
    },
    "trusted": true
   },
   "outputs": [
    {
     "name": "stdout",
     "output_type": "stream",
     "text": [
      "(5001, 300)\n"
     ]
    }
   ],
   "source": [
    "#Initialize embedding matrix\n",
    "embedding_matrix = np.zeros((max_features + 1, embedding_vector_length))\n",
    "print(embedding_matrix.shape)"
   ]
  },
  {
   "cell_type": "code",
   "execution_count": 32,
   "metadata": {
    "execution": {
     "iopub.execute_input": "2025-06-20T09:50:40.146303Z",
     "iopub.status.busy": "2025-06-20T09:50:40.146131Z",
     "iopub.status.idle": "2025-06-20T09:50:40.919384Z",
     "shell.execute_reply": "2025-06-20T09:50:40.918560Z",
     "shell.execute_reply.started": "2025-06-20T09:50:40.146290Z"
    },
    "trusted": true
   },
   "outputs": [],
   "source": [
    "for word, i in sorted(token.word_index.items(),key=lambda x:x[1]):\n",
    "    if i > (max_features+1):\n",
    "        break\n",
    "    try:\n",
    "        embedding_vector = word2vec_model[word] #Reading word's embedding from Glove model for a given word\n",
    "        embedding_matrix[i] = embedding_vector\n",
    "    except:\n",
    "        pass"
   ]
  },
  {
   "cell_type": "code",
   "execution_count": 33,
   "metadata": {
    "execution": {
     "iopub.execute_input": "2025-06-20T09:50:40.920750Z",
     "iopub.status.busy": "2025-06-20T09:50:40.920253Z",
     "iopub.status.idle": "2025-06-20T09:50:40.925243Z",
     "shell.execute_reply": "2025-06-20T09:50:40.924468Z",
     "shell.execute_reply.started": "2025-06-20T09:50:40.920721Z"
    },
    "trusted": true
   },
   "outputs": [
    {
     "data": {
      "text/plain": [
       "5000"
      ]
     },
     "execution_count": 33,
     "metadata": {},
     "output_type": "execute_result"
    }
   ],
   "source": [
    "max_features"
   ]
  },
  {
   "cell_type": "markdown",
   "metadata": {},
   "source": [
    "<h1 style=\"font-family: Verdana; font-size: 24px; font-style: normal; font-weight: bold; text-decoration: none; text-transform: none; letter-spacing: 3px; background-color: #ffffff; color: navy;\">Model Building Using Word2vec&nbsp;&nbsp;&nbsp;&nbsp;</h1> "
   ]
  },
  {
   "cell_type": "code",
   "execution_count": 34,
   "metadata": {
    "execution": {
     "iopub.execute_input": "2025-06-20T09:50:40.926337Z",
     "iopub.status.busy": "2025-06-20T09:50:40.926012Z",
     "iopub.status.idle": "2025-06-20T09:50:43.602567Z",
     "shell.execute_reply": "2025-06-20T09:50:43.601864Z",
     "shell.execute_reply.started": "2025-06-20T09:50:40.926314Z"
    },
    "trusted": true
   },
   "outputs": [
    {
     "name": "stderr",
     "output_type": "stream",
     "text": [
      "/usr/local/lib/python3.11/dist-packages/keras/src/layers/core/embedding.py:90: UserWarning: Argument `input_length` is deprecated. Just remove it.\n",
      "  warnings.warn(\n",
      "I0000 00:00:1750413042.272219      35 gpu_device.cc:2022] Created device /job:localhost/replica:0/task:0/device:GPU:0 with 13942 MB memory:  -> device: 0, name: Tesla T4, pci bus id: 0000:00:04.0, compute capability: 7.5\n",
      "I0000 00:00:1750413042.272878      35 gpu_device.cc:2022] Created device /job:localhost/replica:0/task:0/device:GPU:1 with 13942 MB memory:  -> device: 1, name: Tesla T4, pci bus id: 0000:00:05.0, compute capability: 7.5\n"
     ]
    },
    {
     "data": {
      "text/html": [
       "<pre style=\"white-space:pre;overflow-x:auto;line-height:normal;font-family:Menlo,'DejaVu Sans Mono',consolas,'Courier New',monospace\"><span style=\"font-weight: bold\">Model: \"sequential\"</span>\n",
       "</pre>\n"
      ],
      "text/plain": [
       "\u001b[1mModel: \"sequential\"\u001b[0m\n"
      ]
     },
     "metadata": {},
     "output_type": "display_data"
    },
    {
     "data": {
      "text/html": [
       "<pre style=\"white-space:pre;overflow-x:auto;line-height:normal;font-family:Menlo,'DejaVu Sans Mono',consolas,'Courier New',monospace\">┏━━━━━━━━━━━━━━━━━━━━━━━━━━━━━━━━━━━━━━┳━━━━━━━━━━━━━━━━━━━━━━━━━━━━━┳━━━━━━━━━━━━━━━━━┓\n",
       "┃<span style=\"font-weight: bold\"> Layer (type)                         </span>┃<span style=\"font-weight: bold\"> Output Shape                </span>┃<span style=\"font-weight: bold\">         Param # </span>┃\n",
       "┡━━━━━━━━━━━━━━━━━━━━━━━━━━━━━━━━━━━━━━╇━━━━━━━━━━━━━━━━━━━━━━━━━━━━━╇━━━━━━━━━━━━━━━━━┩\n",
       "│ embedding (<span style=\"color: #0087ff; text-decoration-color: #0087ff\">Embedding</span>)                │ ?                           │       <span style=\"color: #00af00; text-decoration-color: #00af00\">1,500,300</span> │\n",
       "├──────────────────────────────────────┼─────────────────────────────┼─────────────────┤\n",
       "│ bidirectional (<span style=\"color: #0087ff; text-decoration-color: #0087ff\">Bidirectional</span>)        │ ?                           │     <span style=\"color: #00af00; text-decoration-color: #00af00\">0</span> (unbuilt) │\n",
       "├──────────────────────────────────────┼─────────────────────────────┼─────────────────┤\n",
       "│ dropout (<span style=\"color: #0087ff; text-decoration-color: #0087ff\">Dropout</span>)                    │ ?                           │               <span style=\"color: #00af00; text-decoration-color: #00af00\">0</span> │\n",
       "├──────────────────────────────────────┼─────────────────────────────┼─────────────────┤\n",
       "│ bidirectional_1 (<span style=\"color: #0087ff; text-decoration-color: #0087ff\">Bidirectional</span>)      │ ?                           │     <span style=\"color: #00af00; text-decoration-color: #00af00\">0</span> (unbuilt) │\n",
       "├──────────────────────────────────────┼─────────────────────────────┼─────────────────┤\n",
       "│ dropout_1 (<span style=\"color: #0087ff; text-decoration-color: #0087ff\">Dropout</span>)                  │ ?                           │               <span style=\"color: #00af00; text-decoration-color: #00af00\">0</span> │\n",
       "├──────────────────────────────────────┼─────────────────────────────┼─────────────────┤\n",
       "│ dense (<span style=\"color: #0087ff; text-decoration-color: #0087ff\">Dense</span>)                        │ ?                           │     <span style=\"color: #00af00; text-decoration-color: #00af00\">0</span> (unbuilt) │\n",
       "├──────────────────────────────────────┼─────────────────────────────┼─────────────────┤\n",
       "│ dropout_2 (<span style=\"color: #0087ff; text-decoration-color: #0087ff\">Dropout</span>)                  │ ?                           │               <span style=\"color: #00af00; text-decoration-color: #00af00\">0</span> │\n",
       "├──────────────────────────────────────┼─────────────────────────────┼─────────────────┤\n",
       "│ dense_1 (<span style=\"color: #0087ff; text-decoration-color: #0087ff\">Dense</span>)                      │ ?                           │     <span style=\"color: #00af00; text-decoration-color: #00af00\">0</span> (unbuilt) │\n",
       "└──────────────────────────────────────┴─────────────────────────────┴─────────────────┘\n",
       "</pre>\n"
      ],
      "text/plain": [
       "┏━━━━━━━━━━━━━━━━━━━━━━━━━━━━━━━━━━━━━━┳━━━━━━━━━━━━━━━━━━━━━━━━━━━━━┳━━━━━━━━━━━━━━━━━┓\n",
       "┃\u001b[1m \u001b[0m\u001b[1mLayer (type)                        \u001b[0m\u001b[1m \u001b[0m┃\u001b[1m \u001b[0m\u001b[1mOutput Shape               \u001b[0m\u001b[1m \u001b[0m┃\u001b[1m \u001b[0m\u001b[1m        Param #\u001b[0m\u001b[1m \u001b[0m┃\n",
       "┡━━━━━━━━━━━━━━━━━━━━━━━━━━━━━━━━━━━━━━╇━━━━━━━━━━━━━━━━━━━━━━━━━━━━━╇━━━━━━━━━━━━━━━━━┩\n",
       "│ embedding (\u001b[38;5;33mEmbedding\u001b[0m)                │ ?                           │       \u001b[38;5;34m1,500,300\u001b[0m │\n",
       "├──────────────────────────────────────┼─────────────────────────────┼─────────────────┤\n",
       "│ bidirectional (\u001b[38;5;33mBidirectional\u001b[0m)        │ ?                           │     \u001b[38;5;34m0\u001b[0m (unbuilt) │\n",
       "├──────────────────────────────────────┼─────────────────────────────┼─────────────────┤\n",
       "│ dropout (\u001b[38;5;33mDropout\u001b[0m)                    │ ?                           │               \u001b[38;5;34m0\u001b[0m │\n",
       "├──────────────────────────────────────┼─────────────────────────────┼─────────────────┤\n",
       "│ bidirectional_1 (\u001b[38;5;33mBidirectional\u001b[0m)      │ ?                           │     \u001b[38;5;34m0\u001b[0m (unbuilt) │\n",
       "├──────────────────────────────────────┼─────────────────────────────┼─────────────────┤\n",
       "│ dropout_1 (\u001b[38;5;33mDropout\u001b[0m)                  │ ?                           │               \u001b[38;5;34m0\u001b[0m │\n",
       "├──────────────────────────────────────┼─────────────────────────────┼─────────────────┤\n",
       "│ dense (\u001b[38;5;33mDense\u001b[0m)                        │ ?                           │     \u001b[38;5;34m0\u001b[0m (unbuilt) │\n",
       "├──────────────────────────────────────┼─────────────────────────────┼─────────────────┤\n",
       "│ dropout_2 (\u001b[38;5;33mDropout\u001b[0m)                  │ ?                           │               \u001b[38;5;34m0\u001b[0m │\n",
       "├──────────────────────────────────────┼─────────────────────────────┼─────────────────┤\n",
       "│ dense_1 (\u001b[38;5;33mDense\u001b[0m)                      │ ?                           │     \u001b[38;5;34m0\u001b[0m (unbuilt) │\n",
       "└──────────────────────────────────────┴─────────────────────────────┴─────────────────┘\n"
      ]
     },
     "metadata": {},
     "output_type": "display_data"
    },
    {
     "data": {
      "text/html": [
       "<pre style=\"white-space:pre;overflow-x:auto;line-height:normal;font-family:Menlo,'DejaVu Sans Mono',consolas,'Courier New',monospace\"><span style=\"font-weight: bold\"> Total params: </span><span style=\"color: #00af00; text-decoration-color: #00af00\">1,500,300</span> (5.72 MB)\n",
       "</pre>\n"
      ],
      "text/plain": [
       "\u001b[1m Total params: \u001b[0m\u001b[38;5;34m1,500,300\u001b[0m (5.72 MB)\n"
      ]
     },
     "metadata": {},
     "output_type": "display_data"
    },
    {
     "data": {
      "text/html": [
       "<pre style=\"white-space:pre;overflow-x:auto;line-height:normal;font-family:Menlo,'DejaVu Sans Mono',consolas,'Courier New',monospace\"><span style=\"font-weight: bold\"> Trainable params: </span><span style=\"color: #00af00; text-decoration-color: #00af00\">1,500,300</span> (5.72 MB)\n",
       "</pre>\n"
      ],
      "text/plain": [
       "\u001b[1m Trainable params: \u001b[0m\u001b[38;5;34m1,500,300\u001b[0m (5.72 MB)\n"
      ]
     },
     "metadata": {},
     "output_type": "display_data"
    },
    {
     "data": {
      "text/html": [
       "<pre style=\"white-space:pre;overflow-x:auto;line-height:normal;font-family:Menlo,'DejaVu Sans Mono',consolas,'Courier New',monospace\"><span style=\"font-weight: bold\"> Non-trainable params: </span><span style=\"color: #00af00; text-decoration-color: #00af00\">0</span> (0.00 B)\n",
       "</pre>\n"
      ],
      "text/plain": [
       "\u001b[1m Non-trainable params: \u001b[0m\u001b[38;5;34m0\u001b[0m (0.00 B)\n"
      ]
     },
     "metadata": {},
     "output_type": "display_data"
    }
   ],
   "source": [
    "# A simpleRNN without any pretrained embeddings and one dense layer\n",
    "model = Sequential()\n",
    "model.add(Embedding(max_features + 1, #Vocablury size\n",
    "                    embedding_vector_length, #Embedding size\n",
    "                    weights=[embedding_matrix], #Embeddings taken from pre-trained model\n",
    "                    input_length=maxlen))  # Number of words in each review\n",
    "\n",
    "# Bidirectional LSTM layer\n",
    "model.add(Bidirectional(LSTM(128, return_sequences=True)))\n",
    "model.add(Dropout(0.5))\n",
    "\n",
    "# Another LSTM layer\n",
    "model.add(Bidirectional(LSTM(128)))\n",
    "model.add(Dropout(0.5))\n",
    "\n",
    "# Dense layer\n",
    "model.add(Dense(128, activation='relu'))\n",
    "model.add(Dropout(0.5))\n",
    "\n",
    "# Output layer for 57-way multilabel classification\n",
    "model.add(Dense(57, activation='sigmoid'))\n",
    "model.compile(loss='binary_crossentropy', optimizer='adam', metrics=['accuracy',Precision(), Recall()])\n",
    "\n",
    "model.summary()"
   ]
  },
  {
   "cell_type": "code",
   "execution_count": 35,
   "metadata": {
    "execution": {
     "iopub.execute_input": "2025-06-20T09:50:43.603618Z",
     "iopub.status.busy": "2025-06-20T09:50:43.603333Z",
     "iopub.status.idle": "2025-06-20T10:28:42.650500Z",
     "shell.execute_reply": "2025-06-20T10:28:42.649869Z",
     "shell.execute_reply.started": "2025-06-20T09:50:43.603595Z"
    },
    "trusted": true
   },
   "outputs": [
    {
     "name": "stdout",
     "output_type": "stream",
     "text": [
      "Epoch 1/20\n"
     ]
    },
    {
     "name": "stderr",
     "output_type": "stream",
     "text": [
      "I0000 00:00:1750413050.819841     108 cuda_dnn.cc:529] Loaded cuDNN version 90300\n"
     ]
    },
    {
     "name": "stdout",
     "output_type": "stream",
     "text": [
      "\u001b[1m1281/1281\u001b[0m \u001b[32m━━━━━━━━━━━━━━━━━━━━\u001b[0m\u001b[37m\u001b[0m \u001b[1m121s\u001b[0m 87ms/step - accuracy: 0.0830 - loss: 0.1697 - precision: 0.0998 - recall: 0.0309 - val_accuracy: 0.1891 - val_loss: 0.1043 - val_precision: 0.6079 - val_recall: 0.0251\n",
      "Epoch 2/20\n",
      "\u001b[1m1281/1281\u001b[0m \u001b[32m━━━━━━━━━━━━━━━━━━━━\u001b[0m\u001b[37m\u001b[0m \u001b[1m113s\u001b[0m 89ms/step - accuracy: 0.1888 - loss: 0.1064 - precision: 0.5298 - recall: 0.0703 - val_accuracy: 0.3023 - val_loss: 0.0860 - val_precision: 0.6993 - val_recall: 0.2670\n",
      "Epoch 3/20\n",
      "\u001b[1m1281/1281\u001b[0m \u001b[32m━━━━━━━━━━━━━━━━━━━━\u001b[0m\u001b[37m\u001b[0m \u001b[1m114s\u001b[0m 89ms/step - accuracy: 0.3089 - loss: 0.0874 - precision: 0.7235 - recall: 0.2798 - val_accuracy: 0.3562 - val_loss: 0.0753 - val_precision: 0.6945 - val_recall: 0.3876\n",
      "Epoch 4/20\n",
      "\u001b[1m1281/1281\u001b[0m \u001b[32m━━━━━━━━━━━━━━━━━━━━\u001b[0m\u001b[37m\u001b[0m \u001b[1m114s\u001b[0m 89ms/step - accuracy: 0.3525 - loss: 0.0769 - precision: 0.7422 - recall: 0.3519 - val_accuracy: 0.3828 - val_loss: 0.0694 - val_precision: 0.7670 - val_recall: 0.4063\n",
      "Epoch 5/20\n",
      "\u001b[1m1281/1281\u001b[0m \u001b[32m━━━━━━━━━━━━━━━━━━━━\u001b[0m\u001b[37m\u001b[0m \u001b[1m114s\u001b[0m 89ms/step - accuracy: 0.3882 - loss: 0.0709 - precision: 0.7506 - recall: 0.4005 - val_accuracy: 0.4089 - val_loss: 0.0672 - val_precision: 0.7554 - val_recall: 0.4361\n",
      "Epoch 6/20\n",
      "\u001b[1m1281/1281\u001b[0m \u001b[32m━━━━━━━━━━━━━━━━━━━━\u001b[0m\u001b[37m\u001b[0m \u001b[1m113s\u001b[0m 89ms/step - accuracy: 0.4148 - loss: 0.0665 - precision: 0.7626 - recall: 0.4358 - val_accuracy: 0.4302 - val_loss: 0.0636 - val_precision: 0.7751 - val_recall: 0.4645\n",
      "Epoch 7/20\n",
      "\u001b[1m1281/1281\u001b[0m \u001b[32m━━━━━━━━━━━━━━━━━━━━\u001b[0m\u001b[37m\u001b[0m \u001b[1m114s\u001b[0m 89ms/step - accuracy: 0.4332 - loss: 0.0626 - precision: 0.7737 - recall: 0.4741 - val_accuracy: 0.4532 - val_loss: 0.0613 - val_precision: 0.7597 - val_recall: 0.5162\n",
      "Epoch 8/20\n",
      "\u001b[1m1281/1281\u001b[0m \u001b[32m━━━━━━━━━━━━━━━━━━━━\u001b[0m\u001b[37m\u001b[0m \u001b[1m114s\u001b[0m 89ms/step - accuracy: 0.4539 - loss: 0.0597 - precision: 0.7799 - recall: 0.5022 - val_accuracy: 0.4664 - val_loss: 0.0604 - val_precision: 0.7745 - val_recall: 0.5353\n",
      "Epoch 9/20\n",
      "\u001b[1m1281/1281\u001b[0m \u001b[32m━━━━━━━━━━━━━━━━━━━━\u001b[0m\u001b[37m\u001b[0m \u001b[1m114s\u001b[0m 89ms/step - accuracy: 0.4746 - loss: 0.0568 - precision: 0.7916 - recall: 0.5312 - val_accuracy: 0.4641 - val_loss: 0.0602 - val_precision: 0.7808 - val_recall: 0.5291\n",
      "Epoch 10/20\n",
      "\u001b[1m1281/1281\u001b[0m \u001b[32m━━━━━━━━━━━━━━━━━━━━\u001b[0m\u001b[37m\u001b[0m \u001b[1m114s\u001b[0m 89ms/step - accuracy: 0.4856 - loss: 0.0544 - precision: 0.7959 - recall: 0.5577 - val_accuracy: 0.4635 - val_loss: 0.0601 - val_precision: 0.7508 - val_recall: 0.5739\n",
      "Epoch 11/20\n",
      "\u001b[1m1281/1281\u001b[0m \u001b[32m━━━━━━━━━━━━━━━━━━━━\u001b[0m\u001b[37m\u001b[0m \u001b[1m114s\u001b[0m 89ms/step - accuracy: 0.5011 - loss: 0.0518 - precision: 0.8051 - recall: 0.5822 - val_accuracy: 0.4664 - val_loss: 0.0613 - val_precision: 0.7473 - val_recall: 0.5862\n",
      "Epoch 12/20\n",
      "\u001b[1m1281/1281\u001b[0m \u001b[32m━━━━━━━━━━━━━━━━━━━━\u001b[0m\u001b[37m\u001b[0m \u001b[1m114s\u001b[0m 89ms/step - accuracy: 0.5064 - loss: 0.0501 - precision: 0.8102 - recall: 0.5996 - val_accuracy: 0.4762 - val_loss: 0.0613 - val_precision: 0.7505 - val_recall: 0.5895\n",
      "Epoch 13/20\n",
      "\u001b[1m1281/1281\u001b[0m \u001b[32m━━━━━━━━━━━━━━━━━━━━\u001b[0m\u001b[37m\u001b[0m \u001b[1m114s\u001b[0m 89ms/step - accuracy: 0.5160 - loss: 0.0482 - precision: 0.8172 - recall: 0.6163 - val_accuracy: 0.4726 - val_loss: 0.0627 - val_precision: 0.7482 - val_recall: 0.5921\n",
      "Epoch 14/20\n",
      "\u001b[1m1281/1281\u001b[0m \u001b[32m━━━━━━━━━━━━━━━━━━━━\u001b[0m\u001b[37m\u001b[0m \u001b[1m114s\u001b[0m 89ms/step - accuracy: 0.5259 - loss: 0.0469 - precision: 0.8249 - recall: 0.6319 - val_accuracy: 0.4936 - val_loss: 0.0635 - val_precision: 0.7453 - val_recall: 0.6005\n",
      "Epoch 15/20\n",
      "\u001b[1m1281/1281\u001b[0m \u001b[32m━━━━━━━━━━━━━━━━━━━━\u001b[0m\u001b[37m\u001b[0m \u001b[1m114s\u001b[0m 89ms/step - accuracy: 0.5367 - loss: 0.0450 - precision: 0.8284 - recall: 0.6470 - val_accuracy: 0.4773 - val_loss: 0.0660 - val_precision: 0.7494 - val_recall: 0.5903\n",
      "Epoch 16/20\n",
      "\u001b[1m1281/1281\u001b[0m \u001b[32m━━━━━━━━━━━━━━━━━━━━\u001b[0m\u001b[37m\u001b[0m \u001b[1m114s\u001b[0m 89ms/step - accuracy: 0.5383 - loss: 0.0442 - precision: 0.8324 - recall: 0.6516 - val_accuracy: 0.4760 - val_loss: 0.0652 - val_precision: 0.7423 - val_recall: 0.6004\n",
      "Epoch 17/20\n",
      "\u001b[1m1281/1281\u001b[0m \u001b[32m━━━━━━━━━━━━━━━━━━━━\u001b[0m\u001b[37m\u001b[0m \u001b[1m114s\u001b[0m 89ms/step - accuracy: 0.5466 - loss: 0.0422 - precision: 0.8400 - recall: 0.6689 - val_accuracy: 0.4910 - val_loss: 0.0683 - val_precision: 0.7488 - val_recall: 0.5954\n",
      "Epoch 18/20\n",
      "\u001b[1m1281/1281\u001b[0m \u001b[32m━━━━━━━━━━━━━━━━━━━━\u001b[0m\u001b[37m\u001b[0m \u001b[1m114s\u001b[0m 89ms/step - accuracy: 0.5510 - loss: 0.0413 - precision: 0.8423 - recall: 0.6797 - val_accuracy: 0.4911 - val_loss: 0.0712 - val_precision: 0.7433 - val_recall: 0.5967\n",
      "Epoch 19/20\n",
      "\u001b[1m1281/1281\u001b[0m \u001b[32m━━━━━━━━━━━━━━━━━━━━\u001b[0m\u001b[37m\u001b[0m \u001b[1m114s\u001b[0m 89ms/step - accuracy: 0.5561 - loss: 0.0404 - precision: 0.8450 - recall: 0.6874 - val_accuracy: 0.4900 - val_loss: 0.0722 - val_precision: 0.7373 - val_recall: 0.6053\n",
      "Epoch 20/20\n",
      "\u001b[1m1281/1281\u001b[0m \u001b[32m━━━━━━━━━━━━━━━━━━━━\u001b[0m\u001b[37m\u001b[0m \u001b[1m114s\u001b[0m 89ms/step - accuracy: 0.5633 - loss: 0.0391 - precision: 0.8502 - recall: 0.6985 - val_accuracy: 0.4876 - val_loss: 0.0751 - val_precision: 0.7372 - val_recall: 0.6149\n"
     ]
    }
   ],
   "source": [
    "history = model.fit(X_train_pad,\n",
    "                    y_train,\n",
    "                    epochs=20,\n",
    "                    batch_size=32,          \n",
    "                    validation_data=(X_test_pad, y_test))"
   ]
  },
  {
   "cell_type": "code",
   "execution_count": 36,
   "metadata": {
    "execution": {
     "iopub.execute_input": "2025-06-20T10:28:42.651998Z",
     "iopub.status.busy": "2025-06-20T10:28:42.651765Z",
     "iopub.status.idle": "2025-06-20T10:28:42.759513Z",
     "shell.execute_reply": "2025-06-20T10:28:42.758937Z",
     "shell.execute_reply.started": "2025-06-20T10:28:42.651965Z"
    },
    "trusted": true
   },
   "outputs": [],
   "source": [
    "from tensorflow.keras.models import Sequential\n",
    "\n",
    "# Assume model is your Keras model\n",
    "model.save('model.h5')"
   ]
  },
  {
   "cell_type": "code",
   "execution_count": 37,
   "metadata": {
    "execution": {
     "iopub.execute_input": "2025-06-20T10:28:42.760372Z",
     "iopub.status.busy": "2025-06-20T10:28:42.760195Z",
     "iopub.status.idle": "2025-06-20T10:28:43.362086Z",
     "shell.execute_reply": "2025-06-20T10:28:43.361403Z",
     "shell.execute_reply.started": "2025-06-20T10:28:42.760358Z"
    },
    "trusted": true
   },
   "outputs": [
    {
     "name": "stdout",
     "output_type": "stream",
     "text": [
      "\u001b[1m1/1\u001b[0m \u001b[32m━━━━━━━━━━━━━━━━━━━━\u001b[0m\u001b[37m\u001b[0m \u001b[1m1s\u001b[0m 541ms/step\n",
      "Predicted categories for custom input using model2: [('math.NT',)]\n"
     ]
    }
   ],
   "source": [
    "import numpy as np\n",
    "from tensorflow.keras.preprocessing.sequence import pad_sequences\n",
    "\n",
    "def preprocess_input(text, tokenizer, maxlen):\n",
    "    text = strip_links(text)\n",
    "    text = text.replace(\"\\n\", ' ')\n",
    "    text = remove_punctuations(text)\n",
    "    seq = tokenizer.texts_to_sequences([text])\n",
    "    pad_seq = pad_sequences(seq, maxlen=maxlen)\n",
    "    return pad_seq\n",
    "\n",
    "def predict_categories(model, text, tokenizer, maxlen, multilabel_binarizer):\n",
    "    processed_text = preprocess_input(text, tokenizer, maxlen)\n",
    "    prediction = model.predict(processed_text)\n",
    "    thresholded_prediction = prediction > 0.5\n",
    "\n",
    "    # Check if any label has a value greater than 0.5\n",
    "    if thresholded_prediction.any():\n",
    "        predicted_labels = multilabel_binarizer.inverse_transform(thresholded_prediction)\n",
    "    else:\n",
    "        # Get the label with the highest value if no label is above the threshold\n",
    "        max_label_index = prediction.argmax()\n",
    "        max_label = [multilabel_binarizer.classes_[max_label_index]]\n",
    "        predicted_labels = [max_label]\n",
    "\n",
    "    return predicted_labels\n",
    "\n",
    "# Example usage\n",
    "input_string1 = \"Two improvements in Birch's theorem on forms\"\n",
    "input_string2 = \"Let K be a Birch field, that is, a field for which every diagonal form of odd degree in sufficiently many variables admits a non-zero solution; for example, K could be the field of rational numbers. Let f1,…,fr be homogeneous forms of odd degree over K in n variables, and let Z be the variety they cut out. Birch proved if n is sufficiently large then Z(K) contains a non-zero point. We prove two results which show that Z(K) is actually quite large. First, the Zariski closure of Z(K) has bounded codimension in An. And second, if the fi's have sufficiently high strength then Z(K) is in fact Zariski dense in Z. The proofs use recent results on strength, and our methods build on recent work of Bik, Draisma, and Snowden, which established similar improvements to Brauer's theorem on forms.\"\n",
    "custom_input =  input_string1 + '. ' + input_string2\n",
    "\n",
    "# Example usage for the second model\n",
    "predicted_categories2 = predict_categories(model, custom_input, token, maxlen, multilabel)\n",
    "print(\"Predicted categories for custom input using model2:\", predicted_categories2)\n"
   ]
  }
 ],
 "metadata": {
  "kaggle": {
   "accelerator": "nvidiaTeslaT4",
   "dataSources": [
    {
     "datasetId": 6763,
     "sourceId": 9801,
     "sourceType": "datasetVersion"
    },
    {
     "datasetId": 5285999,
     "sourceId": 8791830,
     "sourceType": "datasetVersion"
    },
    {
     "datasetId": 5288808,
     "sourceId": 8795686,
     "sourceType": "datasetVersion"
    },
    {
     "datasetId": 5290233,
     "sourceId": 8797859,
     "sourceType": "datasetVersion"
    },
    {
     "datasetId": 7703244,
     "sourceId": 12226557,
     "sourceType": "datasetVersion"
    }
   ],
   "dockerImageVersionId": 31041,
   "isGpuEnabled": true,
   "isInternetEnabled": true,
   "language": "python",
   "sourceType": "notebook"
  },
  "kernelspec": {
   "display_name": "Python 3",
   "language": "python",
   "name": "python3"
  },
  "language_info": {
   "codemirror_mode": {
    "name": "ipython",
    "version": 3
   },
   "file_extension": ".py",
   "mimetype": "text/x-python",
   "name": "python",
   "nbconvert_exporter": "python",
   "pygments_lexer": "ipython3",
   "version": "3.11.11"
  }
 },
 "nbformat": 4,
 "nbformat_minor": 4
}
